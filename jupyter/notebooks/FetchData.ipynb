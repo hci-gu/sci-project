{
 "cells": [
  {
   "cell_type": "code",
   "execution_count": null,
   "id": "aef9bc7c-747a-4e02-9da1-47b563d77504",
   "metadata": {},
   "outputs": [],
   "source": [
    "import numpy as np\n",
    "import pandas as pd\n",
    "import matplotlib.pyplot as plt\n",
    "from datetime import datetime, timedelta\n",
    "from dateutil import parser\n",
    "import math\n",
    "import requests\n",
    "import json\n",
    "\n",
    "pd.options.plotting.backend = \"plotly\"\n",
    "\n",
    "%matplotlib inline"
   ]
  },
  {
   "cell_type": "code",
   "execution_count": null,
   "id": "10836219-3237-4ab9-9fbf-a214586217ab",
   "metadata": {},
   "outputs": [],
   "source": [
    "from_date = '2022-02-14T16:00:00'\n",
    "to_date = '2022-02-14T18:00:00'"
   ]
  },
  {
   "cell_type": "code",
   "execution_count": null,
   "id": "6c4ec33f-cb6e-4645-9056-3def8c82f3f9",
   "metadata": {},
   "outputs": [],
   "source": [
    "const_coeff = -0.022223\n",
    "HR_coeff = 0.000281\n",
    "Weight_coeff = 0.000081\n",
    "Acc_coeff = 0.000002\n",
    "\n",
    "Weight = 70"
   ]
  },
  {
   "cell_type": "code",
   "execution_count": null,
   "id": "b5f1913f-ca97-49d2-b265-85b6702b35be",
   "metadata": {},
   "outputs": [],
   "source": [
    "url = 'https://api.sci.appadem.in/data/accel?from=' + from_date + '&to=' + to_date\n",
    "response = requests.get(url).text\n",
    "acc_raw = json.loads(response)"
   ]
  },
  {
   "cell_type": "code",
   "execution_count": null,
   "id": "eb9746be-e017-4800-8690-9fefa1f7c9e6",
   "metadata": {},
   "outputs": [],
   "source": [
    "url = 'https://api.sci.appadem.in/data/hr?from=' + from_date + '&to=' + to_date\n",
    "response = requests.get(url).text\n",
    "hr_raw = json.loads(response)"
   ]
  },
  {
   "cell_type": "code",
   "execution_count": null,
   "id": "6a95704f-80e0-44db-a6dd-ab9ffba14085",
   "metadata": {},
   "outputs": [],
   "source": [
    "acc_raw[0]"
   ]
  },
  {
   "cell_type": "code",
   "execution_count": null,
   "id": "0bdc486d-7b34-4677-a98a-5d075f53f383",
   "metadata": {},
   "outputs": [],
   "source": [
    "rows = []\n",
    "for d in acc_raw:\n",
    "    x = d['x']\n",
    "    y = d['y']\n",
    "    z = d['z']\n",
    "    a = np.sqrt(x ** 2 + y ** 2 + z ** 2)\n",
    "    rows.append([pd.to_datetime(d['t']), x, y, z, a])\n",
    "\n",
    "acc = pd.DataFrame(rows, columns=['time', 'x', 'y', 'z', 'a'])\n",
    "acc = acc.set_index('time')"
   ]
  },
  {
   "cell_type": "code",
   "execution_count": null,
   "id": "6cb2ae42-fd09-4b79-a36c-56a78e43437b",
   "metadata": {},
   "outputs": [],
   "source": [
    "rows = []\n",
    "for d in hr_raw:\n",
    "    rows.append([pd.to_datetime(d['t']), d['hr']])\n",
    "\n",
    "hr = pd.DataFrame(rows, columns=['time', 'value'])\n",
    "hr = hr.set_index('time')"
   ]
  },
  {
   "cell_type": "code",
   "execution_count": null,
   "id": "ba015d79-c0e1-4d31-ae97-1f72b8b67e68",
   "metadata": {},
   "outputs": [],
   "source": [
    "acc.head()"
   ]
  },
  {
   "cell_type": "code",
   "execution_count": null,
   "id": "dc490829-da91-46aa-b95e-5813fc746015",
   "metadata": {},
   "outputs": [],
   "source": [
    "# Plot accel x,y,z over time\n",
    "hr.sort_values(by='time').plot(x='time', y=['value'], )"
   ]
  },
  {
   "cell_type": "code",
   "execution_count": null,
   "id": "f7401112-fa15-4f17-8e56-940d5e9e45ba",
   "metadata": {},
   "outputs": [],
   "source": [
    "# Plot accel x,y,z over time\n",
    "\n",
    "acc.plot(x='time', y=['a'])"
   ]
  },
  {
   "cell_type": "code",
   "execution_count": null,
   "id": "9233780e-a7b7-4946-ac4f-7717bc4636d4",
   "metadata": {},
   "outputs": [],
   "source": [
    "# acc['mean'] = acc['a'].rolling(10*60).sum()/9.82\n",
    "acc['mean'] = acc.resample('1Min').sum()['a']\n",
    "acc.plot(y=['mean'])"
   ]
  },
  {
   "cell_type": "code",
   "execution_count": null,
   "id": "54e7796b-badd-4049-9ec0-6a192138f3aa",
   "metadata": {},
   "outputs": [],
   "source": [
    "hr['mean'] = hr['value'].rolling(60).mean()\n",
    "\n",
    "hr.plot(x='time', y=['mean', 'value'])"
   ]
  },
  {
   "cell_type": "code",
   "execution_count": null,
   "id": "e5d70023-ec30-4af1-aefc-dbb6cfb841b3",
   "metadata": {},
   "outputs": [],
   "source": [
    "acc['time']"
   ]
  },
  {
   "cell_type": "code",
   "execution_count": null,
   "id": "f8f80e89-cbc2-413c-a5c6-8efc1df25685",
   "metadata": {},
   "outputs": [],
   "source": [
    "# acc.groupby([acc['time'].dt.minute]).mean()\n",
    "acc_minutes = acc.resample('1Min')\n",
    "hr_minutes = hr.resample('1Min')\n",
    "result = acc_minutes.sum()\n",
    "result['count'] = acc_minutes['a'].count()\n",
    "result['hr'] = hr_minutes.mean()['value']\n",
    "result['acc'] = result['a']/9.82\n",
    "result['aee_min_kg'] = const_coeff + result['acc']*Acc_coeff + Weight * Weight_coeff + result['hr'] * HR_coeff\n",
    "result['aee_min'] = result['aee_min_kg'] * Weight\n",
    "result\n"
   ]
  },
  {
   "cell_type": "code",
   "execution_count": null,
   "id": "73857243-9cf3-4c63-8b12-0dce7b367d9b",
   "metadata": {
    "tags": []
   },
   "outputs": [],
   "source": [
    "result.cumsum().plot(y=['aee_min'])"
   ]
  },
  {
   "cell_type": "code",
   "execution_count": null,
   "id": "5aba376d-a629-41f8-91a7-13e4ebc90660",
   "metadata": {},
   "outputs": [],
   "source": [
    "acc['x'] = new['x']"
   ]
  },
  {
   "cell_type": "code",
   "execution_count": null,
   "id": "c3288f36-df34-4ea3-acb0-eb716419533d",
   "metadata": {},
   "outputs": [],
   "source": [
    "acc.resample('1Min').count()['a'].plot()"
   ]
  },
  {
   "cell_type": "code",
   "execution_count": null,
   "id": "cd8e196f-ca55-46c5-81f2-68e8ec991cfa",
   "metadata": {},
   "outputs": [],
   "source": []
  }
 ],
 "metadata": {
  "kernelspec": {
   "display_name": "Python 3 (ipykernel)",
   "language": "python",
   "name": "python3"
  },
  "language_info": {
   "codemirror_mode": {
    "name": "ipython",
    "version": 3
   },
   "file_extension": ".py",
   "mimetype": "text/x-python",
   "name": "python",
   "nbconvert_exporter": "python",
   "pygments_lexer": "ipython3",
   "version": "3.9.7"
  }
 },
 "nbformat": 4,
 "nbformat_minor": 5
}
